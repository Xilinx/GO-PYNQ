{
 "cells": [
  {
   "cell_type": "markdown",
   "metadata": {},
   "source": [
    "# SMART POWER MONITERING SYSTEM"
   ]
  },
  {
   "cell_type": "markdown",
   "metadata": {},
   "source": [
    "In Our Project XILINX PYNQ Z2 is used as a Main Processing Unit also used as a database which Stores Data and applies Machine Learning Algorithm for Early Prediction of Errors in the Power Grid Prior to the fault. It maintains Grid Database and Sends Reports to the Authority periodically. This Report is composed of Grid Condition,Transformer Health,life Expectency,Voltage and Current readings,faulty Pole Tracking data,short circuit detection,Power Theft info,Transformer switching. "
   ]
  },
  {
   "cell_type": "markdown",
   "metadata": {},
   "source": [
    "Features of Pynq Z2 board in out project:\n",
    ">.Data base  (_Stores all Data Related to the Grid_)\n",
    "\n",
    ">.Early Fault Prediction   (_It predicts the Error in the grid Prior to the fault to occue _)\n",
    "\n",
    "\n",
    ">.Grid Network Report\n",
    "\n",
    ">.Hardware Interface\n",
    "\n",
    ">.Problem Classification\n",
    "\n",
    ">.Seasonal Grid Health Prediction\n",
    "\n",
    ">.Anti Power Theft\n",
    ">"
   ]
  },
  {
   "cell_type": "markdown",
   "metadata": {},
   "source": [
    "Importing Base Overlays for accessing GPIO pins on Pynq  Board . "
   ]
  },
  {
   "cell_type": "code",
   "execution_count": 2,
   "metadata": {},
   "outputs": [
    {
     "data": {
      "application/javascript": [
       "\n",
       "require(['notebook/js/codecell'], function(codecell) {\n",
       "  codecell.CodeCell.options_default.highlight_modes[\n",
       "      'magic_text/x-csrc'] = {'reg':[/^%%microblaze/]};\n",
       "  Jupyter.notebook.events.one('kernel_ready.Kernel', function(){\n",
       "      Jupyter.notebook.get_cells().map(function(cell){\n",
       "          if (cell.cell_type == 'code'){ cell.auto_highlight(); } }) ;\n",
       "  });\n",
       "});\n"
      ]
     },
     "metadata": {},
     "output_type": "display_data"
    }
   ],
   "source": [
    "from pynq.overlays.base import BaseOverlay\n",
    "base = BaseOverlay('base.bit')"
   ]
  },
  {
   "cell_type": "markdown",
   "metadata": {},
   "source": [
    "Libraries for including features like Email, Database,date ,time,seasons,Arduino Gpio Control."
   ]
  },
  {
   "cell_type": "code",
   "execution_count": 3,
   "metadata": {},
   "outputs": [],
   "source": [
    "from pynq.lib.arduino import arduino_io\n",
    "import time\n",
    "import smtplib\n",
    "from email.mime.text import MIMEText\n",
    "from email.mime.multipart import MIMEMultipart\n",
    "from email.mime.base import MIMEBase\n",
    "from email import encoders\n",
    "from csv import reader\n",
    "from sys import exit\n",
    "from math import sqrt\n",
    "from operator import itemgetter\n",
    "import csv\n",
    "from csv import reader\n",
    "from sys import exit\n",
    "from math import sqrt\n",
    "from operator import itemgetter\n",
    "import pytz\n",
    "import random\n",
    "from datetime import datetime\n",
    "from dateutil.tz import *"
   ]
  },
  {
   "cell_type": "markdown",
   "metadata": {},
   "source": [
    "We are Configuring Arduino I/O ports for Controlling Power unit and to Setup all default Data"
   ]
  },
  {
   "cell_type": "code",
   "execution_count": 4,
   "metadata": {},
   "outputs": [],
   "source": [
    "led = arduino_io.Arduino_IO(base.ARDUINO, 13, 'out')\n",
    "d1=arduino_io.Arduino_IO(base.ARDUINO,2,'in')\n",
    "d2=arduino_io.Arduino_IO(base.ARDUINO,3,'in')\n",
    "f=arduino_io.Arduino_IO(base.ARDUINO,4,'in')\n",
    "sc=arduino_io.Arduino_IO(base.ARDUINO,5,'in')\n",
    "mail=arduino_io.Arduino_IO(base.ARDUINO,6,'in')\n",
    "flag=0\n",
    "season=0\n",
    "month=0\n",
    "load=0\n",
    "health='_'\n",
    "problem_time='_'"
   ]
  },
  {
   "cell_type": "markdown",
   "metadata": {},
   "source": [
    "These are the functions used to set up Month,Date, time,seasons,Email and to take Real time data as Sensor input(current,voltage,Fuse,Load..) ."
   ]
  },
  {
   "cell_type": "code",
   "execution_count": 5,
   "metadata": {},
   "outputs": [],
   "source": [
    "breakdowns=0\n",
    "def gettime():\n",
    "    now = datetime.now()\n",
    "                                              # assuming now contains a timezone aware datetime\n",
    "    zone = pytz.timezone('Asia/Kolkata')\n",
    "    TIME_now = now.astimezone(zone)\n",
    "    #print('time =',(TIME_now).time())\n",
    "    #print('date =',(TIME_now).date())        #datetime.datetime.now().date()\n",
    "    nela=(TIME_now).date().month\n",
    "    #print('month =',nela)\n",
    "    return TIME_now\n",
    "def predictmonth():   \n",
    "    maheen=(gettime().month)\n",
    "    if(maheen in range(3,6)):\n",
    "        seas=3                #summer\n",
    "    elif(maheen in range(7,10)):\n",
    "        seas=2                #rainy\n",
    "    else:\n",
    "        seas=1               #winter\n",
    "    return seas \n",
    "def seasons():                 # sesons \n",
    "    season=predictmonth()\n",
    "    #print(season)\n",
    "    return season\n",
    "def temperature():          # Transformer temperature readings using randint in place of sensors\n",
    "    if(season in range(1,2)):\n",
    "        temp=random.randint(50,80)\n",
    "        #print(temp)\n",
    "        return temp \n",
    "    else:\n",
    "        temp=random.randint(75,90)\n",
    "        #print(temp)\n",
    "        return temp  \n",
    "def outload():             #using randint in place of sensors \n",
    "    if(season in range(1,2)):\n",
    "        load=random.randint(10,50)\n",
    "        #print(load)\n",
    "        return load\n",
    "    else:\n",
    "        load=random.randint(40,80)\n",
    "        #print(load)\n",
    "        return load    \n",
    "def fusedowns():            #using randint in place of sensors\n",
    "    breakdowns=0   \n",
    "                           #breakdowns=breakdowns+1 \n",
    "    return breakdowns \n",
    "    \n",
    "        \n",
    "def pole():      # taking Pole data from Pole Transmitters\n",
    "    p1=d1.read()\n",
    "    #print('p1=',p1)\n",
    "    p2=d2.read()\n",
    "    #print('p2=',p2)\n",
    "    polenumber=p1*2+p2*1\n",
    "    if(polenumber>=1):\n",
    "        problem_time=gettime()\n",
    "    return polenumber\n",
    "def addtestdata():     # Giving test data to Machine Leanrnig Algorithm\n",
    "    with open('powertest.csv', mode='w') as employee_file:\n",
    "        employee_writer = csv.writer(employee_file, delimiter=',', quotechar='\"', quoting=csv.QUOTE_MINIMAL)\n",
    "        print('season=',seasons())\n",
    "        employee_writer.writerow([seasons(),temperature(),outload(),fusedowns()])\n",
    "def email():             # For sending Email to The Authority\n",
    "    email_user = 'Your Email id'\n",
    "    email_password = 'your Pswd'\n",
    "    email_send = 'To mail id'\n",
    "    subject = 'SMART POWER MONITORING SYSTEM Powered by PYNQ Z2'\n",
    "    msg = MIMEMultipart()\n",
    "    msg['From'] = email_user\n",
    "    msg['To'] = email_send\n",
    "    msg['Subject'] = subject\n",
    "    body = 'Hi there, sending this email from Python!'\n",
    "    msg.attach(MIMEText(body,'plain'))\n",
    "    filename='smartpower_report.txt'\n",
    "    attachment  =open(filename,'rb')\n",
    "    part = MIMEBase('application','octet-stream')\n",
    "    part.set_payload((attachment).read())\n",
    "    encoders.encode_base64(part)\n",
    "    part.add_header('Content-Disposition',\"attachment; filename= \"+filename)\n",
    "    msg.attach(part)\n",
    "    text = msg.as_string()\n",
    "    server = smtplib.SMTP('smtp.gmail.com',587)\n",
    "    server.starttls()\n",
    "    server.login(email_user,email_password)\n",
    "    server.sendmail(email_user,email_send,text)\n",
    "    print('mail sent')\n",
    "    server.quit()"
   ]
  },
  {
   "cell_type": "markdown",
   "metadata": {},
   "source": [
    "This Algorithm is used for Electric grid health prediction and to add data into csv file ."
   ]
  },
  {
   "cell_type": "code",
   "execution_count": 6,
   "metadata": {},
   "outputs": [],
   "source": [
    "def load_data_set(filename):\n",
    "    try:\n",
    "        with open(filename, newline='') as iris:\n",
    "            return list(reader(iris, delimiter=','))\n",
    "    except FileNotFoundError as e:\n",
    "        raise e\n",
    "\n",
    "\n",
    "def convert_to_float(data_set, mode):\n",
    "    new_set = []\n",
    "    try:\n",
    "        if mode == 'training':\n",
    "            for data in data_set:\n",
    "                new_set.append([int(x) for x in data[:len(data)-1]] + [data[len(data)-1]])\n",
    "\n",
    "        elif mode == 'test':\n",
    "            for data in data_set:\n",
    "                new_set.append([int(x) for x in data])\n",
    "\n",
    "        else:\n",
    "            print('Invalid mode, program will exit.')\n",
    "            exit()\n",
    "\n",
    "        return new_set\n",
    "\n",
    "    except ValueError as v:\n",
    "        print(v)\n",
    "        print('Invalid data set format, program will exit.')\n",
    "        exit()\n",
    "\n",
    "\n",
    "def get_classes(training_set):\n",
    "    return list(set([c[-1] for c in training_set]))\n",
    "\n",
    "\n",
    "def find_neighbors(distances, k):\n",
    "    return distances[0:k]\n",
    "\n",
    "\n",
    "def find_response(neighbors, classes):\n",
    "    votes = [0] * len(classes)\n",
    "\n",
    "    for instance in neighbors:\n",
    "        for ctr, c in enumerate(classes):\n",
    "            if instance[-2] == c:\n",
    "                votes[ctr] += 1\n",
    "\n",
    "    return max(enumerate(votes), key=itemgetter(1))\n",
    "\n",
    "\n",
    "def knn(training_set, test_set, k):\n",
    "    distances = []\n",
    "    dist = 0\n",
    "    limit = len(training_set[0]) - 1\n",
    "\n",
    "    # generate response classes from training data\n",
    "    classes = get_classes(training_set)\n",
    "\n",
    "    try:\n",
    "        for test_instance in test_set:\n",
    "            for row in training_set:\n",
    "                for x, y in zip(row[:limit], test_instance):\n",
    "                    dist += (x-y) * (x-y)\n",
    "                distances.append(row + [sqrt(dist)])\n",
    "                dist = 0\n",
    "\n",
    "            distances.sort(key=itemgetter(len(distances[0])-1))\n",
    "\n",
    "            # find k nearest neighbors\n",
    "            neighbors = find_neighbors(distances, k)\n",
    "\n",
    "            # get the class with maximum votes\n",
    "            index, value = find_response(neighbors, classes)\n",
    "            outputclass=classes[index]\n",
    "            # Display prediction\n",
    "            print('The predicted class for sample [Season ,core Temp ,power Load ,blown Fuses] : Health of Transformer' )\n",
    "            print('The predicted class for sample ' + str(test_instance) + ' is : ' + classes[index])\n",
    "            print('Number of votes : ' + str(value) + ' out of ' + str(k))\n",
    "            if (str(value)==str(k)):\n",
    "                with open('powerdataset.csv','r') as csvinput:\n",
    "                    with open('powerdataset.csv', 'a') as csvoutput:\n",
    "                        writer = csv.writer(csvoutput)\n",
    "                        berry=classes[index]\n",
    "                        newrow=test_instance+[str(berry)]                        \n",
    "                        writer.writerow(newrow)\n",
    "            # empty the distance list\n",
    "            distances.clear()\n",
    "            \n",
    "\n",
    "    except Exception as e:\n",
    "        print(e)\n",
    "    finally:\n",
    "        return outputclass"
   ]
  },
  {
   "cell_type": "markdown",
   "metadata": {},
   "source": [
    "Invoking the grid health prediction algorithm in the code which takes data from the code and predicts the Health and Power theft based on sensor data."
   ]
  },
  {
   "cell_type": "code",
   "execution_count": 7,
   "metadata": {},
   "outputs": [],
   "source": [
    "def ML():\n",
    "    try:\n",
    "        # get value of k\n",
    "        k = 5 #int(input('Enter the value of k : '))\n",
    "        # load the training and test data set\n",
    "        training_file ='powerdataset.csv' #input('Enter name of training data file : ')\n",
    "        test_file = 'powertest.csv'#input('Enter name of test data file : ')\n",
    "        training_set = convert_to_float(load_data_set(training_file), 'training')\n",
    "        test_set = convert_to_float(load_data_set(test_file), 'test')\n",
    "\n",
    "        if not training_set:\n",
    "            print('Empty training set')\n",
    "\n",
    "        elif not test_set:\n",
    "            print('Empty test set')\n",
    "\n",
    "        elif k > len(training_set):\n",
    "            print('Expected number of neighbors is higher than number of training data instances')\n",
    "\n",
    "        else:\n",
    "            health=knn(training_set, test_set, k)\n",
    "\n",
    "    except ValueError as v:\n",
    "        print(v)\n",
    "\n",
    "    except FileNotFoundError:\n",
    "        print('File not found')\n",
    "    finally:\n",
    "        return health"
   ]
  },
  {
   "cell_type": "markdown",
   "metadata": {},
   "source": [
    "A Report mail will be sent to Power management Regarding the Grid Network reports periodically\n",
    "with format\n",
    "\n",
    " ---------------------------------------------------------\n",
    "###     SMART POWER MONITORING powered by SPMOS            \n",
    " ---------------------------------------------------------\n",
    ">Transformer Service No: 1#008337hgj6745\n",
    "<br>\n",
    ">AREA : Vijayawada ,colony: Benz Circle ,Line no 21, Street 52\n",
    "<br>\n",
    ">Consumed UNITS :4800\n",
    "<br>\n",
    ">Health of Transformer: good\n",
    "<br>\n",
    ">Life Expectency :28\n",
    "<br>\n",
    ">Future Faults :no error\n",
    "<br>\n",
    ">Grid Condition :good\n",
    "<br>\n",
    ">Short circuits :0\n",
    "<br>\n",
    ">Problem at Pole :No problems\n",
    "<br>\n",
    ">Power Theft :0. "
   ]
  },
  {
   "cell_type": "code",
   "execution_count": 8,
   "metadata": {},
   "outputs": [],
   "source": [
    "def texttomail(swasth):\n",
    "    file1 = open(\"smartpower_report.txt\",\"w\") \n",
    "    #load=130\n",
    "    health=swasth\n",
    "    if(health=='normal'):\n",
    "        life=random.randint(10,20)\n",
    "    elif(health=='good'):\n",
    "        life=random.randint(20,30)\n",
    "    else:\n",
    "        life=random.randint(3,10)\n",
    "    if(pole()>=1):\n",
    "        mypole=pole()\n",
    "        problem_time=gettime()\n",
    "        print('problem at pole happened at \\n')\n",
    "        print(problem_time)\n",
    "    else:\n",
    "        mypole=0\n",
    "        problem_time='_'\n",
    "    \n",
    "    L = [\" ---------------------------------------------------------\\n\",\n",
    "        \"|     SMART POWER MONITORING powered by SPMOS             |\\n \",\n",
    "         \"---------------------------------------------------------\\n\",\n",
    "         \"|Transformer 1\",\"\\n\",\"|AREA : ponnur Line no 21, Street 52\\n\",\n",
    "         \"|Power UNITS :\",str(outload()),\"\\n\",\n",
    "         \"|Health of Transformer:\",str(health),\"\\n\",\n",
    "         \"|Life Expectency :\",str(life),\"\\n\",\n",
    "         \"|Future Faults :\",str('no error'),\"\\n\",\n",
    "         \"|Grid Condition :\",str(health),\"\\n\",\n",
    "         \"|Short circuits :\",str(fusedowns()),\"\\n\",\n",
    "         \"|Problem at Pole :\",str(mypole),\"at time :\",str(problem_time),\"\\n\",#type pole data and time\n",
    "         \"|Power Theft :\",str(fusedowns()),\"\\n\",\n",
    "        ]  \n",
    "    print('problematic pole =',pole())\n",
    "    # \\n is placed to indicate EOL (End of Line) \n",
    "    file1.write(\"Hello \\n\") \n",
    "    file1.writelines(L) \n",
    "    file1.close() #to change file access modes "
   ]
  },
  {
   "cell_type": "markdown",
   "metadata": {},
   "source": [
    "Continuosly monitoring the above factors inside this loop."
   ]
  },
  {
   "cell_type": "code",
   "execution_count": 11,
   "metadata": {},
   "outputs": [],
   "source": [
    "def loop():\n",
    "    while(1):\n",
    "        addtestdata() # reads testdata\n",
    "        time.sleep(1)\n",
    "        swasth=ML()           #predict test data\n",
    "        time.sleep(1)\n",
    "        texttomail(swasth)  #generates a text document to be sent by mail\n",
    "        time.sleep(1)\n",
    "        if mail.read()==1:  #if mail summons\n",
    "            email()  #sending mail to admin\n",
    "        time.sleep(50)    \n",
    "  \n",
    "\n"
   ]
  },
  {
   "cell_type": "markdown",
   "metadata": {},
   "source": [
    "Driving program to run the entire code."
   ]
  },
  {
   "cell_type": "markdown",
   "metadata": {},
   "source": [
    "Data input From Sensors<br> \n",
    ">Seasons <br> Voltage <br> Current <br> Transformer Core Temperature <br> Grid Load <br> Blown Fuses : <br><br><br> Gives Health of Transformer"
   ]
  },
  {
   "cell_type": "code",
   "execution_count": 13,
   "metadata": {},
   "outputs": [
    {
     "name": "stdout",
     "output_type": "stream",
     "text": [
      "season= 1\n",
      "The predicted class for sample [Season ,core Temp ,power Load ,blown Fuses] : Health of Transformer\n",
      "The predicted class for sample [1, 80, 52, 0] is : normal\n",
      "Number of votes : 4 out of 5\n",
      "problematic pole = 0\n"
     ]
    },
    {
     "ename": "KeyboardInterrupt",
     "evalue": "",
     "output_type": "error",
     "traceback": [
      "\u001b[0;31m---------------------------------------------------------------------------\u001b[0m",
      "\u001b[0;31mKeyboardInterrupt\u001b[0m                         Traceback (most recent call last)",
      "\u001b[0;32m<ipython-input-13-babb4cfe777f>\u001b[0m in \u001b[0;36m<module>\u001b[0;34m()\u001b[0m\n\u001b[1;32m      3\u001b[0m \u001b[0;34m\u001b[0m\u001b[0m\n\u001b[1;32m      4\u001b[0m \u001b[0;32mif\u001b[0m \u001b[0m__name__\u001b[0m \u001b[0;34m==\u001b[0m \u001b[0;34m'__main__'\u001b[0m\u001b[0;34m:\u001b[0m\u001b[0;34m\u001b[0m\u001b[0m\n\u001b[0;32m----> 5\u001b[0;31m     \u001b[0mmain\u001b[0m\u001b[0;34m(\u001b[0m\u001b[0;34m)\u001b[0m\u001b[0;34m\u001b[0m\u001b[0m\n\u001b[0m",
      "\u001b[0;32m<ipython-input-13-babb4cfe777f>\u001b[0m in \u001b[0;36mmain\u001b[0;34m()\u001b[0m\n\u001b[1;32m      1\u001b[0m \u001b[0;32mdef\u001b[0m \u001b[0mmain\u001b[0m\u001b[0;34m(\u001b[0m\u001b[0;34m)\u001b[0m\u001b[0;34m:\u001b[0m\u001b[0;34m\u001b[0m\u001b[0m\n\u001b[0;32m----> 2\u001b[0;31m     \u001b[0mloop\u001b[0m\u001b[0;34m(\u001b[0m\u001b[0;34m)\u001b[0m\u001b[0;34m\u001b[0m\u001b[0m\n\u001b[0m\u001b[1;32m      3\u001b[0m \u001b[0;34m\u001b[0m\u001b[0m\n\u001b[1;32m      4\u001b[0m \u001b[0;32mif\u001b[0m \u001b[0m__name__\u001b[0m \u001b[0;34m==\u001b[0m \u001b[0;34m'__main__'\u001b[0m\u001b[0;34m:\u001b[0m\u001b[0;34m\u001b[0m\u001b[0m\n\u001b[1;32m      5\u001b[0m     \u001b[0mmain\u001b[0m\u001b[0;34m(\u001b[0m\u001b[0;34m)\u001b[0m\u001b[0;34m\u001b[0m\u001b[0m\n",
      "\u001b[0;32m<ipython-input-11-fc813fcdd8c7>\u001b[0m in \u001b[0;36mloop\u001b[0;34m()\u001b[0m\n\u001b[1;32m      9\u001b[0m         \u001b[0;32mif\u001b[0m \u001b[0mmail\u001b[0m\u001b[0;34m.\u001b[0m\u001b[0mread\u001b[0m\u001b[0;34m(\u001b[0m\u001b[0;34m)\u001b[0m\u001b[0;34m==\u001b[0m\u001b[0;36m1\u001b[0m\u001b[0;34m:\u001b[0m  \u001b[0;31m#if mail summons\u001b[0m\u001b[0;34m\u001b[0m\u001b[0m\n\u001b[1;32m     10\u001b[0m             \u001b[0memail\u001b[0m\u001b[0;34m(\u001b[0m\u001b[0;34m)\u001b[0m  \u001b[0;31m#sending mail to admin\u001b[0m\u001b[0;34m\u001b[0m\u001b[0m\n\u001b[0;32m---> 11\u001b[0;31m         \u001b[0mtime\u001b[0m\u001b[0;34m.\u001b[0m\u001b[0msleep\u001b[0m\u001b[0;34m(\u001b[0m\u001b[0;36m50\u001b[0m\u001b[0;34m)\u001b[0m\u001b[0;34m\u001b[0m\u001b[0m\n\u001b[0m\u001b[1;32m     12\u001b[0m \u001b[0;34m\u001b[0m\u001b[0m\n\u001b[1;32m     13\u001b[0m \u001b[0;34m\u001b[0m\u001b[0m\n",
      "\u001b[0;31mKeyboardInterrupt\u001b[0m: "
     ]
    }
   ],
   "source": [
    "def main():\n",
    "    loop()\n",
    "\n",
    "if __name__ == '__main__':\n",
    "    main()\n"
   ]
  },
  {
   "cell_type": "code",
   "execution_count": null,
   "metadata": {},
   "outputs": [],
   "source": []
  }
 ],
 "metadata": {
  "kernelspec": {
   "display_name": "Python 3",
   "language": "python",
   "name": "python3"
  },
  "language_info": {
   "codemirror_mode": {
    "name": "ipython",
    "version": 3
   },
   "file_extension": ".py",
   "mimetype": "text/x-python",
   "name": "python",
   "nbconvert_exporter": "python",
   "pygments_lexer": "ipython3",
   "version": "3.6.5"
  }
 },
 "nbformat": 4,
 "nbformat_minor": 2
}
