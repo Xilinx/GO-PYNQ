{
 "cells": [
  {
   "cell_type": "code",
   "execution_count": 1,
   "metadata": {},
   "outputs": [
    {
     "data": {
      "application/javascript": [
       "\n",
       "require(['notebook/js/codecell'], function(codecell) {\n",
       "  codecell.CodeCell.options_default.highlight_modes[\n",
       "      'magic_text/x-csrc'] = {'reg':[/^%%microblaze/]};\n",
       "  Jupyter.notebook.events.one('kernel_ready.Kernel', function(){\n",
       "      Jupyter.notebook.get_cells().map(function(cell){\n",
       "          if (cell.cell_type == 'code'){ cell.auto_highlight(); } }) ;\n",
       "  });\n",
       "});\n"
      ]
     },
     "metadata": {},
     "output_type": "display_data"
    },
    {
     "data": {
      "text/plain": [
       "['ARDUINO_G1_A',\n",
       " 'ARDUINO_G1_B',\n",
       " 'ARDUINO_G2_A',\n",
       " 'ARDUINO_G2_B',\n",
       " 'ARDUINO_G3_A',\n",
       " 'ARDUINO_G3_B',\n",
       " 'ARDUINO_G4_A',\n",
       " 'ARDUINO_G4_B',\n",
       " 'ARDUINO_G5_A',\n",
       " 'ARDUINO_G5_B',\n",
       " 'ARDUINO_G6_A',\n",
       " 'ARDUINO_G6_B',\n",
       " 'ARDUINO_G7_A',\n",
       " 'ARDUINO_G7_B',\n",
       " 'GPIO_IN',\n",
       " 'GPIO_INDEX_MAX',\n",
       " 'GPIO_INDEX_MIN',\n",
       " 'GPIO_OUT',\n",
       " '__class__',\n",
       " '__delattr__',\n",
       " '__dict__',\n",
       " '__dir__',\n",
       " '__doc__',\n",
       " '__eq__',\n",
       " '__format__',\n",
       " '__ge__',\n",
       " '__getattribute__',\n",
       " '__gt__',\n",
       " '__hash__',\n",
       " '__init__',\n",
       " '__init_subclass__',\n",
       " '__le__',\n",
       " '__lt__',\n",
       " '__module__',\n",
       " '__ne__',\n",
       " '__new__',\n",
       " '__reduce__',\n",
       " '__reduce_ex__',\n",
       " '__repr__',\n",
       " '__setattr__',\n",
       " '__sizeof__',\n",
       " '__str__',\n",
       " '__subclasshook__',\n",
       " '__weakref__',\n",
       " '_build_constants',\n",
       " '_build_functions',\n",
       " '_mb',\n",
       " '_populate_typedefs',\n",
       " '_rpc_stream',\n",
       " 'active_functions',\n",
       " 'delay_ms',\n",
       " 'delay_us',\n",
       " 'gpio_close',\n",
       " 'gpio_configure',\n",
       " 'gpio_get_num_devices',\n",
       " 'gpio_open',\n",
       " 'gpio_open_device',\n",
       " 'gpio_read',\n",
       " 'gpio_set_direction',\n",
       " 'gpio_write',\n",
       " 'release',\n",
       " 'reset',\n",
       " 'spi_close',\n",
       " 'spi_configure',\n",
       " 'spi_get_num_devices',\n",
       " 'spi_open',\n",
       " 'spi_open_device',\n",
       " 'spi_transfer',\n",
       " 'timer_close',\n",
       " 'timer_delay',\n",
       " 'timer_get_num_devices',\n",
       " 'timer_open',\n",
       " 'timer_open_device',\n",
       " 'timer_pwm_generate',\n",
       " 'timer_pwm_stop',\n",
       " 'uart_close',\n",
       " 'uart_get_num_devices',\n",
       " 'uart_open',\n",
       " 'uart_open_device',\n",
       " 'uart_read',\n",
       " 'uart_write',\n",
       " 'visitor']"
      ]
     },
     "execution_count": 1,
     "metadata": {},
     "output_type": "execute_result"
    }
   ],
   "source": [
    "from pynq.overlays.base import BaseOverlay\n",
    "from pynq.lib import MicroblazeLibrary\n",
    "\n",
    "import ctypes\n",
    "#from pynq.lib.arduino import ARDUINO_GROVE\n",
    "#from pynq.lib import arduino\n",
    "base = BaseOverlay('base.bit')\n",
    "lib = MicroblazeLibrary(base.ARDUINO, ['gpio', 'spi', 'timer', 'uart','pmod_arduino'])\n",
    "dir(lib)"
   ]
  },
  {
   "cell_type": "code",
   "execution_count": 2,
   "metadata": {},
   "outputs": [
    {
     "name": "stdout",
     "output_type": "stream",
     "text": [
      "bytearray(b'\\x0c')\n",
      "bytearray(b'\\x00')\n"
     ]
    }
   ],
   "source": [
    "sendBuff=bytearray(1)\n",
    "sendBuff[0]=int(12);\n",
    "print(sendBuff) \n",
    "\n",
    "buff=bytearray(1)\n",
    "#buff[0]=0\n",
    "print(buff) \n"
   ]
  },
  {
   "cell_type": "code",
   "execution_count": 3,
   "metadata": {},
   "outputs": [
    {
     "data": {
      "text/plain": [
       "['__class__',\n",
       " '__delattr__',\n",
       " '__dict__',\n",
       " '__dir__',\n",
       " '__doc__',\n",
       " '__eq__',\n",
       " '__format__',\n",
       " '__ge__',\n",
       " '__getattribute__',\n",
       " '__gt__',\n",
       " '__hash__',\n",
       " '__index__',\n",
       " '__init__',\n",
       " '__init_subclass__',\n",
       " '__int__',\n",
       " '__le__',\n",
       " '__lt__',\n",
       " '__module__',\n",
       " '__ne__',\n",
       " '__new__',\n",
       " '__reduce__',\n",
       " '__reduce_ex__',\n",
       " '__repr__',\n",
       " '__setattr__',\n",
       " '__sizeof__',\n",
       " '__str__',\n",
       " '__subclasshook__',\n",
       " '__weakref__',\n",
       " '_call_func',\n",
       " 'close',\n",
       " 'get_num_devices',\n",
       " 'open',\n",
       " 'open_device',\n",
       " 'read',\n",
       " 'val',\n",
       " 'write']"
      ]
     },
     "execution_count": 3,
     "metadata": {},
     "output_type": "execute_result"
    }
   ],
   "source": [
    "device=lib.uart_open(1,0)\n",
    "led1=\n",
    "dir(device)\n"
   ]
  },
  {
   "cell_type": "code",
   "execution_count": null,
   "metadata": {},
   "outputs": [
    {
     "name": "stdout",
     "output_type": "stream",
     "text": [
      "typedef uart containing 0\n",
      "1\n"
     ]
    }
   ],
   "source": [
    "#device.open_device(device)\n",
    "import time\n",
    "from time import sleep\n",
    "print(device)\n",
    "dlen=int(str(1))\n",
    "print(dlen)\n",
    "while(1):\n",
    "    device.write(sendBuff,1)\n",
    "    device.get_num_devices()\n",
    "    time.sleep(1)\n",
    "    #for x in range(1,99999)"
   ]
  },
  {
   "cell_type": "code",
   "execution_count": null,
   "metadata": {},
   "outputs": [],
   "source": []
  }
 ],
 "metadata": {
  "kernelspec": {
   "display_name": "Python 3",
   "language": "python",
   "name": "python3"
  },
  "language_info": {
   "codemirror_mode": {
    "name": "ipython",
    "version": 3
   },
   "file_extension": ".py",
   "mimetype": "text/x-python",
   "name": "python",
   "nbconvert_exporter": "python",
   "pygments_lexer": "ipython3",
   "version": "3.6.5"
  }
 },
 "nbformat": 4,
 "nbformat_minor": 2
}
